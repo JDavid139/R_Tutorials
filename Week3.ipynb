{
 "cells": [
  {
   "cell_type": "markdown",
   "metadata": {},
   "source": [
    "# Week 3: User-Defined Functions (UDFs) and Lists"
   ]
  },
  {
   "cell_type": "markdown",
   "metadata": {},
   "source": [
    "## Lesson Summary/Goals: \n",
    "\n",
    "**Built-in Functions**\n",
    "    - Know basic functions\n",
    "    - Know how to learn more about built-in functions using '?'\n",
    "\n",
    "**UDFs**\n",
    "    - Know the structure of a function\n",
    "    - Make your code DRY\n",
    "    - Divide and Conquer\n",
    "    \n",
    "**Environment**\n",
    "    - Local vs. Global\n",
    "    - Scoping\n",
    "\n",
    "**Lists**\n",
    "    - Generating\n",
    "        - Named lists\n",
    "    - Subsetting\n",
    "    - Modifying\n",
    "    \n",
    "\n",
    "## Recommended Background: \n",
    "\n",
    "**You should have some confidence in:**\n",
    "    - assigning variables\n",
    "    - the fundamental types of objects in R\n",
    "    - creating vectors"
   ]
  },
  {
   "cell_type": "markdown",
   "metadata": {},
   "source": [
    " "
   ]
  },
  {
   "cell_type": "markdown",
   "metadata": {},
   "source": [
    "## Functions:\n",
    "\n",
    "\n",
    "### What are functions? \n",
    "\n",
    "- Functions are what makes coding, *coding*. The primary purpose of a function is to manipulate the different objects created in R.\n",
    "\n",
    "- Functions are their own object. However, you can also assign functions to a name. Functions not assigned to anything are called **anonymous functions**.\n",
    "\n",
    "- Creating your own functions will ultimately help you more efficiently accomplish tasks that would normally take you more time than you need to exhaust. \n",
    "\n",
    "- Functions have an input and an output. \n",
    "\n",
    "- Functions act as an operator, just like basic arithmetic symbols (e.g. +, -, /, etc.).\n",
    "\n",
    "- You call a function when you want to complete a specified task."
   ]
  },
  {
   "cell_type": "markdown",
   "metadata": {},
   "source": [
    "## Built-In Functions\n",
    "\n",
    "To begin, let's first see what built-in functions can do in the R programming language.\n",
    "\n",
    "Built-in functions come from R packages that are already coded to make your life easier. Usually, packages will contain functions that fall under a certain category. The intention should be to make your life easier by saving you time from rewriting pre-written functions. \n",
    "\n",
    "Listed below are some common functions you might find yourself using often (if you have already installed the R package, you already have the base package!):\n",
    "\n",
    "\n",
    "**General**\n",
    "\n",
    "- length(x)                                           \n",
    "    - *Return no. of elements in vector x*\n",
    "\n",
    "- range(x)                                                  \n",
    "    - *Returns the minimum and maximum of x*\n",
    "\n",
    "\n",
    "\n",
    "\n",
    "**Math**\n",
    "\n",
    "- abs(x)                                                    \n",
    "    - *The absolute value of \"x\"*\n",
    "\n",
    "- log(x), exp()                                             \n",
    "\n",
    "- cos(),sin(),tan(),acos(),asin(),atan(),atan2()\n",
    "\n",
    "- eigen()                                                 \n",
    "    - *Computes eigenvalues and eigenvectors*\n",
    "\n",
    "- deriv()                                                 \n",
    "    - *Symbolic and algorithmic derivatives of simple expressions*\n",
    "\n",
    "- integrate()                                             \n",
    "    - *Adaptive quadrature over a finite or infinite interval*\n",
    "\n",
    "\n",
    "\n",
    "\n",
    "**Graphical**\n",
    "\n",
    "- plot()                                                           \n",
    "    - *Generic function for plotting of R objects*\n",
    "\n",
    "- curve(5*x^3,add=T)                                               \n",
    "    - *Plot an equation as a curve*\n",
    "\n",
    "- points(x,y)                                                      \n",
    "    - *Add another set of points to an existing graph*\n",
    "\n",
    "- hist(x)                                                          \n",
    "    - *Plot a histogram of x*\n",
    "\n",
    "- pdf()                                                            \n",
    "    - *Plot to pdf file*\n",
    "\n",
    "- png()                                                            \n",
    "    - *Plot to PNG file*\n",
    "\n",
    "- jpeg()                                                           \n",
    "    - *Plot to JPEG file*\n",
    "\n",
    "\n",
    "\n",
    "\n",
    "**Statistical**\n",
    "\n",
    "- mean(x)\n",
    "\n",
    "- var(x)\n",
    "\n",
    "- median(x)\n",
    "\n",
    "- min(x)\n",
    "\n",
    "- max(x)\n",
    "\n",
    "- summary(x)                                                       \n",
    "    - *Returns a summary of x: mean, min, max etc.*\n",
    "\n",
    "\n",
    "\n",
    "Visit [\"A list of useful functions in R\"](http://www.sr.bham.ac.uk/~ajrs/R/r-function_list.html) to see the above functions as well as more advanced and detailed built-in functions!\n",
    "\n"
   ]
  },
  {
   "cell_type": "markdown",
   "metadata": {},
   "source": [
    "**Tip:**\n",
    "\n",
    "There are hundreds of built-in functions in R, along with many more packages. How will you know the purpose of each function, or more importantly, how to use each one?\n",
    "\n",
    "**<code> help(function_name) </code>** and **<code> ?function_name </code>**\n",
    "\n",
    "These help functions will redirect you to a page, [R Documentation](https://www.r-project.org/other-docs.html), where you can read up on detailed information about the function such as the general description, usage, arguments, and examples! "
   ]
  },
  {
   "cell_type": "markdown",
   "metadata": {},
   "source": [
    " "
   ]
  },
  {
   "cell_type": "markdown",
   "metadata": {},
   "source": [
    "## Examples\n",
    "\n",
    "Many of you should be aquainted with concepts like: absolute value, cosine, mean, and integration. \n",
    "\n",
    "Try playing with the following functions below. Feel free to try other functions as well!"
   ]
  },
  {
   "cell_type": "code",
   "execution_count": null,
   "metadata": {
    "collapsed": true
   },
   "outputs": [],
   "source": [
    "# ___ Absolute Value ___\n",
    "\n",
    "# Assign a variable.\n",
    "x <- c((-123121)*(24)-(899001), 34, 0, -1)\n",
    "\n",
    "# You want to see what kind of inputs you need so you use the help function.\n",
    "?help\n",
    "\n",
    "# In R Documentation, the arguments (inputs) read:\n",
    "# \" x - a numeric or complex vector or array. \"\n",
    "\n",
    "# Perfect! You have x, a numeric vector! \n",
    "abs(x)"
   ]
  },
  {
   "cell_type": "code",
   "execution_count": null,
   "metadata": {
    "collapsed": true
   },
   "outputs": [],
   "source": [
    "# ___ Mean ___\n",
    "\n",
    "# Assign a variable.\n",
    "x <- c((-123121)*(24)-(899001), 34, 0, -1)\n",
    "\n",
    "# How do I use this function?\n",
    "?mean\n",
    "\n",
    "# Somethign like this should appear:\n",
    "## __ Usage: __ \n",
    "# mean(x, ...)\n",
    "\n",
    "## Default S3 method:\n",
    "# mean(x, trim = 0, na.rm = FALSE, ...)\n",
    "\n",
    "# __ Arguments: __\n",
    "# x - An R object. Currently there are methods for numeric/logical vectors and \n",
    "#     date, date-time and time interval objects. Complex vectors are allowed \n",
    "#     for trim = 0, only.\n",
    "# trim - the fraction (0 to 0.5) of observations to be trimmed from each end of \n",
    "#     x before the mean is computed. Values of trim outside that range are \n",
    "#     taken as the nearest endpoint.\n",
    "# na.rm - a logical value indicating whether NA values should be stripped \n",
    "#     before the computation proceeds.\n",
    "\n",
    "\n",
    "# Don't be alarmed by how many arguments are listed above. Only x is 'required'.\n",
    "\n",
    "# Try running this code and see what you get!\n",
    "mean(x)"
   ]
  },
  {
   "cell_type": "markdown",
   "metadata": {},
   "source": [
    "## Optional Arguments\n",
    "\n",
    "If you successfully accessed <code> ?mean </code> above, then you should have seen *multiple* arguments in the function <code> mean() </code>.\n",
    "\n",
    "Why does <code> mean(x) </code> work without the other arguments?\n",
    "- This is because the arguments, <code> trim </code> and <code> na.rm </code> are **optional**.\n",
    "- In other words, if you do not input an argument for an **optional** argument, the function will already have specified a default value to fill the vacancy. \n",
    "- Optional arguments are primarily used to resolve conditions that are not commonly dealt with. That's why they're optional!\n",
    "\n",
    "\n",
    "**Slight Digression**\n",
    "\n",
    "The following are considered values and produce something that can be stored in the environment (which will be touched upon later). Here are a few examples:\n",
    "- <code> \"\" </code> == empty string\n",
    "- <code> c() </code> == empty vector\n",
    "- <code> list() </code> == empty list\n",
    "- <code> data.frame() </code> == empty data frame"
   ]
  },
  {
   "cell_type": "code",
   "execution_count": null,
   "metadata": {
    "collapsed": true
   },
   "outputs": [],
   "source": [
    "# ___ Example ___\n",
    "\n",
    "# Making use of the optional arguments.\n",
    "\n",
    "###############################################\n",
    "###############################################\n",
    "\n",
    "sample <- c(2, 3, 5, 7, 11, 13, 17, 19, 23, 29) \n",
    "\n",
    "# Default Value\n",
    "mean(sample)\n",
    "\n",
    "# trim\n",
    "mean(sample, trim = 0.1)\n",
    "\n",
    "###############################################\n",
    "###############################################\n",
    "\n",
    "sample_NA <- c(2, 3, 5, 7, 11, 13, 17, 19, 23, 29, NA)\n",
    "\n",
    "# Default Value\n",
    "mean(sample_NA)\n",
    "\n",
    "# na.rm\n",
    "mean(sample_NA, na.rm = TRUE)"
   ]
  },
  {
   "cell_type": "markdown",
   "metadata": {},
   "source": [
    " "
   ]
  },
  {
   "cell_type": "markdown",
   "metadata": {},
   "source": [
    "## User-Defined Functions -- Creating Your Own Functions\n",
    "\n",
    "Sometimes, R just won't have the function you need. Thus, you must make the function you *deserve*. \n",
    "\n",
    "How do you do so? Look no further!\n",
    "\n",
    "\n",
    "\n",
    "**Note**\n",
    "\n",
    "- Make sure that the variable that you place in the input is defined either in the local environment of the function or the global environment. \n"
   ]
  },
  {
   "cell_type": "markdown",
   "metadata": {},
   "source": [
    "### UDFs"
   ]
  },
  {
   "cell_type": "code",
   "execution_count": null,
   "metadata": {
    "collapsed": true
   },
   "outputs": [],
   "source": [
    "# Anatomy of a function\n",
    "\n",
    "function_name <- function(argument_1, argument_2) {\n",
    "    function_body\n",
    "}"
   ]
  },
  {
   "cell_type": "markdown",
   "metadata": {},
   "source": [
    "### Note: \n",
    "\n",
    "- Arguments can consist of various objects such as characters, numerics, integers, lists, data frames, etc.\n",
    "\n",
    "- Between the two curly brackets lies the **function body**. When you use the function, the inputted arguments will be executed by the code in the function body. \n",
    "\n",
    "- The last line of code in the function body will return a value. You can return other values manually. \n"
   ]
  },
  {
   "cell_type": "markdown",
   "metadata": {},
   "source": [
    "### How To Use Your Functions\n",
    "\n",
    "**It's really simple. Follow the steps below!**\n",
    "\n"
   ]
  },
  {
   "cell_type": "code",
   "execution_count": null,
   "metadata": {
    "collapsed": true
   },
   "outputs": [],
   "source": [
    "# 1) Make your function using the structure above.\n",
    "function_name <- function(x) {\n",
    "    x + 1 * 10\n",
    "}\n",
    "\n",
    "# 2) Once you are done, you need to call on it to send it to your environment. \n",
    "# Run the function!\n",
    "function_name <- function(x) {\n",
    "    x + 1 * 10\n",
    "}\n",
    "\n",
    "# 3) (Optional) Create an arbitary variable. It can literally be anything.\n",
    "anything <- 'literally'\n",
    "valid <- 3\n",
    "\n",
    "# 4) Now call the function with the variable made earlier.\n",
    "function_name(anything)\n",
    "function_name(valid)\n",
    "\n",
    "# 5) Now look at your environment (on Rstudio), scroll to the function category, \n",
    "#    and check to see if your function appeared! This should appear regardless \n",
    "#    if your variable was a valid input of the function (e.g. you receive  \n",
    "#    something like this 'argument is not numeric or logical: returning NA')."
   ]
  },
  {
   "cell_type": "markdown",
   "metadata": {},
   "source": [
    "## Useful Things To Know When Creating A Function\n",
    "\n",
    "Creating a function is just like assigning a variable. Also, just as variables are saved to your environment, so are your functions when you execute them.\n",
    "\n",
    "**Ctrl + C**\n",
    "\n",
    "- Pressing 'Ctrl + C' will quit a processing function, if-loop, while-loop, or any operation that prevents you from utilizing R. (Also called killing a process/killing running code)\n",
    "- Use this when your code is taking longer than you expect or want it to. \n",
    "\n",
    "\n",
    "**return(value)**\n",
    "\n",
    "- return() ==> Outputs a value once it satisfies a given condition then terminates the function. Under certain circumstances.\n",
    "- You might want to use this to quit a function early once you have found the value you were looking for. \n",
    "\n",
    "\n",
    "**?(function_name)**\n",
    "\n",
    "- ?(function_name) ==> will bring you to R documentation and show you usage, **arguments**, values, and *examples*\n",
    "\n",
    "\n",
    "**args(function_name)**\n",
    "\n",
    "- args() ==> shortcut which gives you arguments of a function\n",
    "\n",
    "\n",
    "**Miscellaneous**\n",
    "\n",
    "- You can manipulate R in the same way you would treat an object. \n",
    "    - Examples of this would be:\n",
    "        - Reassigning the function to a variable with a different name    \n",
    "        \n",
    "- In R, you have required arguments and optional arguments. Realize that as long as you are explicit about your arguments and correctly name them, the order you place them in is irrelevant. In RDocumentation.org, you can find which arguments are optional vs required. \n",
    "    - Variables and empty strings are required. \n",
    "        "
   ]
  },
  {
   "cell_type": "markdown",
   "metadata": {},
   "source": [
    "**Concepts**\n",
    "\n",
    "- **Adopt the \"Don't Repeat Yourself\" principle, a.k.a DRY.** \n",
    "    - Situation: You need to execute a command to a line of code, but you don't want to maunally do that over and over and over. This can end up being tedious and risky because you will be more susceptible to errors and typos.\n",
    "    - The [DRY principle](https://en.wikipedia.org/wiki/Don't_repeat_yourself) is stated as [\"Every piece of knowledge must have a single, unambiguous, authoritative representation within a system\". When the DRY principle is applied successfully, a modification of any single element of a system does not require a change in other logically unrelated elements. Additionally, elements that are logically related all change predictably and uniformly, and are thus kept in sync.](https://en.wikipedia.org/wiki/Don't_repeat_yourself)\n",
    "\n",
    "- **Divide and Conquer Method**\n",
    "    - Situation: You have a problem that you want to solve, but the only obvious way you can think of is the long, tedious, brute force way. \n",
    "    - Divide: Break up the problem into smaller problems. \n",
    "    - Conquer: Solve the smaller problems. \n",
    "    - Recombine your solution for the smaller problems, then solve the bigger problem. \n"
   ]
  },
  {
   "cell_type": "markdown",
   "metadata": {},
   "source": [
    "## Environment\n",
    "\n",
    "The environment is where R goes to look for stored variables and functions.\n",
    "\n",
    "Here, we will also expand on the scope of a function.\n",
    "\n",
    "**In the enviroment, you will find up to three categories:**\n",
    "\n",
    "- **Data**\n",
    "    - \"Data\" consists of lists, data frames, matrices, and other data structures that can contain rows *and* columns of information.\n",
    "    - You can double click your data to see it in your workspace.\n",
    "\n",
    "- **Functions**\n",
    "    - Self explanatory; consists of your functions. \n",
    "    - You can double click on your functions to look at the function body if you forgot what it does.\n",
    "\n",
    "- **Values**\n",
    "    - More or less, everything else that does not fulfill the category of data or functions. \n",
    "    - e.g. assigned numbers/strings, vectors, etc. \n",
    "\n",
    "\n",
    "**If you want to clear some variables in your environment,** use the **' remove(base) '** function. See the example provided below.\n",
    "\n",
    "**If you want to clear EVERYTHING in your environment,** use **' rm(list = ls()) '**."
   ]
  },
  {
   "cell_type": "code",
   "execution_count": null,
   "metadata": {
    "collapsed": true
   },
   "outputs": [],
   "source": [
    "# _____ Example _____\n",
    "# Assign data to an object name.\n",
    "variable <- \"string\"\n",
    "\n",
    "# The object name should now show up in the 'value' category of your environment. \n",
    "\n",
    "# Now try removing your object. \n",
    "remove(variable)\n",
    "\n",
    "# The object name, ' variable ' should have now disappeared from your environment."
   ]
  },
  {
   "cell_type": "markdown",
   "metadata": {},
   "source": [
    "### Types of Environment\n",
    "There are two types of environment: **local** and **global**.\n",
    "\n",
    "Your **local** environment primarily refers to variables that are declared inside a function. Your local environment cannot be accessed outside of the function. \n",
    "\n",
    "Your **global** environment refers to all other data, values, and functions outside of an individual function.\n",
    "\n",
    "**Note:**\n",
    "\n",
    "When accessing a function, your local variables inside of the function are prioritized by R when making any calculations. If there are no assigned variables in the local environment, then R goes to the global environment to execute a function. \n",
    "\n",
    "If you want R to avoid running into confusion when accessing variables, you should give your local and global variables unique names."
   ]
  },
  {
   "cell_type": "code",
   "execution_count": null,
   "metadata": {
    "collapsed": true
   },
   "outputs": [],
   "source": [
    "# _____ Exercise _____\n",
    "\n",
    "y <- 42\n",
    "func_name <- function(x) {\n",
    "    y <- 20\n",
    "    # Since y is assigned inside the function, the function prioritizes the \n",
    "    # (local / global) environment. \n",
    "    x + y\n",
    "}\n",
    "\n",
    "# What do you expect func_name(8) to output?  \n",
    "\n",
    "# What is y?"
   ]
  },
  {
   "cell_type": "code",
   "execution_count": null,
   "metadata": {
    "collapsed": true
   },
   "outputs": [],
   "source": [
    "# _____ Exercise _____\n",
    "\n",
    "y <- 42\n",
    "func_name2 <- function(x) {\n",
    "    y <<- 20\n",
    "    # The ' <<- ' pushes the assigned variable out of the function and into the\n",
    "    # global environment. You should notice, after you execute this whole block\n",
    "    # of code that ' y <- 42 ' is replaced with ' y <- 20 ' in the global \n",
    "    # environment.\n",
    "    x + y\n",
    "}\n",
    "\n",
    "# What do you expect func_name2(11) to output?\n",
    "\n",
    "# What is y?"
   ]
  },
  {
   "cell_type": "markdown",
   "metadata": {},
   "source": [
    "## Exercise #1:"
   ]
  },
  {
   "cell_type": "markdown",
   "metadata": {
    "collapsed": true
   },
   "source": [
    "### Create your own function: \n",
    "\n",
    "Convert the temperature units, Celcius, to the units, Fahrenheit. \n",
    "\n",
    "Once you are done, convert Fahrenheit to Celsius.\n",
    "\n",
    "You are given the following formula:\n",
    "\n",
    "![Image of C to F/F to C Formula](http://www.101computing.net/wp/wp-content/uploads/fahrenheit_to_celsius_formulas.png)\n",
    "\n"
   ]
  },
  {
   "cell_type": "markdown",
   "metadata": {},
   "source": [
    "## Exercise #2:"
   ]
  },
  {
   "cell_type": "markdown",
   "metadata": {},
   "source": [
    "BE CREATIVE:\n",
    "\n",
    "Create a function where you have one required input as an argrument and one optional input as an argument. (e.g. make a function for the sum of squares)"
   ]
  },
  {
   "cell_type": "code",
   "execution_count": null,
   "metadata": {
    "collapsed": true
   },
   "outputs": [],
   "source": []
  },
  {
   "cell_type": "markdown",
   "metadata": {},
   "source": [
    "## Exercise #3:"
   ]
  },
  {
   "cell_type": "markdown",
   "metadata": {},
   "source": [
    "**Create a function that helps you more quickly calculate the averages in a vector more quickly. (Yes, this is already a built-in function. Try to figure out its anatomy on your own though! It's good practice.)**"
   ]
  },
  {
   "cell_type": "code",
   "execution_count": null,
   "metadata": {
    "collapsed": true
   },
   "outputs": [],
   "source": [
    "#  _________ EXERCISE _________\n",
    "\n",
    "\n",
    "# Create a function that makes calculating the average of the values in a \n",
    " # vector quicker. (Yes, this is already built in.)\n",
    "\n",
    "\n",
    "# Take a look at the function, mean(), break down how the function works, then\n",
    " # reconstruct it in function form.\n",
    "\n",
    "\n",
    "\n",
    "# Keep in mind that there are always multiple ways to create a function! \n",
    " # Some may take some more time to execute; other strategies may be quicker to \n",
    " # execute, even by just a few nanoseconds!\n",
    "\n",
    "\n",
    "\n",
    "# Let's break down the function, ' mean() ':\n",
    " # As you might know, the function, mean, *means* average--the sum of a group \n",
    " # of numbers, divided by the number of numbers in the group. \n",
    "\n",
    "\n",
    "\n",
    "# Thus you might think of something similar to the following:\n",
    "\n",
    "mean_UDF <- function(<FILL IN>) {\n",
    "  <FILL IN>\n",
    "}"
   ]
  },
  {
   "cell_type": "markdown",
   "metadata": {},
   "source": [
    "## Exercise #4:"
   ]
  },
  {
   "cell_type": "markdown",
   "metadata": {},
   "source": [
    "Now let's step it up a notch. Let's try **variance**! [The variance is the average of the squared differences from the mean.](http://www.mathsisfun.com/data/standard-deviation.html) If you are not familiar with variance or need to be refreshed on the topic, click on the link prior!\n",
    "\n",
    "Try to figure out how to make a function for variance. Remember, there are multiple solutions for this exercise!"
   ]
  },
  {
   "cell_type": "code",
   "execution_count": null,
   "metadata": {
    "collapsed": true
   },
   "outputs": [],
   "source": []
  },
  {
   "cell_type": "markdown",
   "metadata": {},
   "source": [
    "## Exercise #5:"
   ]
  },
  {
   "cell_type": "markdown",
   "metadata": {},
   "source": [
    "### Challenge Problem:\n",
    "\n",
    "Create a function that outputs the second largest number in a matrix. \n",
    "\n",
    "\n",
    "**Hint 1:**\n",
    "\n",
    "Here a quick way to generate a random matrix to see if your function works!\n",
    "- <code> replicate(5, rnorm(5)) </code> \n",
    "- Expect something along the lines of this, but different numbers\n"
   ]
  },
  {
   "cell_type": "code",
   "execution_count": null,
   "metadata": {
    "collapsed": true
   },
   "outputs": [],
   "source": [
    ">         [,1]        [,2]        [,3]        [,4]\n",
    "\n",
    "> [1,] -0.4386910   -1.6518913  0.6486602   0.35054001\n",
    "\n",
    "> [2,] -0.5263067   -0.1038436  -0.6189868  1.60853842\n",
    "\n",
    "> [3,] -0.7413896   0.3776236   0.3189630   -0.13850185\n",
    "\n",
    "> [4,] -0.4696661   0.6092193   0.6877337   1.68501153\n",
    "\n",
    "> [5,]  0.9611014   0.0975538   0.8344805   -0.05673202\n",
    "\n",
    ">             [,5]\n",
    "\n",
    "> [1,]  0.37456409\n",
    "\n",
    "> [2,] -1.03342478\n",
    "\n",
    "> [3,] -0.70093245\n",
    "\n",
    "> [4,] -0.02589409\n",
    "\n",
    "> [5,]  0.94647790"
   ]
  },
  {
   "cell_type": "markdown",
   "metadata": {},
   "source": [
    "**Hint 2:** \n",
    "\n",
    "If you don't quite understand the question, here's some clarification. Above is a 5x5 matrix. You are asked to find the number with the *second largest* value in the matrix. By observation, you'll find that 1.60853842 is the second largest number. How did you find that? Can you put your logical thoughts in the form of a code?\n",
    "\n",
    "\n",
    "**Hint 3:** \n",
    "\n",
    "Can you find the second largest number in a vector? How??\n",
    "\n"
   ]
  },
  {
   "cell_type": "markdown",
   "metadata": {},
   "source": [
    "**Hint 4:**"
   ]
  },
  {
   "cell_type": "code",
   "execution_count": null,
   "metadata": {
    "collapsed": true
   },
   "outputs": [],
   "source": [
    "# you use a 'for loop' when you don't want to keep writing a command over and over and over...\n",
    "# use 'for loops' when you're lazy or smart :3\n",
    "\n",
    "for (*index* in *array*){\n",
    "  statement\n",
    "}"
   ]
  },
  {
   "cell_type": "markdown",
   "metadata": {},
   "source": [
    "**Hint 5:**"
   ]
  },
  {
   "cell_type": "code",
   "execution_count": null,
   "metadata": {
    "collapsed": true
   },
   "outputs": [],
   "source": [
    "# an 'if statement' is used you want a command to be executed after a condition is fulfilled.\n",
    "# you can combine this tool with the 'for loop'\n",
    "\n",
    "if (test_expression) {\n",
    "   statement\n",
    "}"
   ]
  },
  {
   "cell_type": "code",
   "execution_count": null,
   "metadata": {
    "collapsed": true
   },
   "outputs": [],
   "source": [
    "# ONLY LOOK AT THIS IF YOU ARE COMPLETELY STUCK AND YOU HAVE NO IDEA WHAT TO DO!!\n",
    "# Below is a fill-in-the-blank hint!\n",
    " \n",
    "\n",
    "\n",
    "\n",
    "\n",
    "\n",
    "\n",
    "\n",
    "# ARE YOU SURE? THINK A LITTLE HARDER IF YOU'RE STRUGGLING.\n",
    "\n",
    "\n",
    "\n",
    "\n",
    "\n",
    "\n",
    "\n",
    "\n",
    "\n",
    "# Hint 6:\n",
    "second_largest <- <FILL IN>(rand)\n",
    "  \n",
    "rand <- replicate(5, rnorm(5))\n",
    "\n",
    "largest <- <FILL IN>\n",
    "for (i in <FILL IN>){\n",
    "  if(<FILL IN>) {\n",
    "    <FILL IN>\n",
    "  }\n",
    "}\n",
    "\n",
    "second <- <FILL IN>\n",
    "for (<FILL IN>){\n",
    "  if(<FILL IN>) {\n",
    "    <FILL IN>\n",
    "  }\n",
    "}\n",
    "\n",
    "print(rand)\n",
    "print(second)"
   ]
  },
  {
   "cell_type": "markdown",
   "metadata": {},
   "source": [
    "#### Your output should look something like this (but probably with different numbers):\n",
    "\n",
    "Check yourself to see if your code actually output the second largest number!\n"
   ]
  },
  {
   "cell_type": "code",
   "execution_count": null,
   "metadata": {
    "collapsed": true
   },
   "outputs": [],
   "source": [
    ">     print(rand)\n",
    "            [,1]       [,2]        [,3]       [,4]       [,5]\n",
    "[1,]  1.22459413 -0.6863706 -0.05042041 -0.1114614  0.3662244\n",
    "[2,] -0.19765781  1.9087161  0.60332108  0.3450471  0.9855776\n",
    "[3,] -0.01638604  0.8648472  1.78158580  0.7674530 -2.1440592\n",
    "[4,]  0.16362135  1.5585552  1.45021696  0.5705995 -1.0773751\n",
    "[5,] -0.82824386  1.0014212 -1.00584427 -1.3149331 -0.3898746\n",
    "\n",
    ">     print(second)\n",
    "[1] 1.781586"
   ]
  },
  {
   "cell_type": "code",
   "execution_count": null,
   "metadata": {
    "collapsed": true
   },
   "outputs": [],
   "source": [
    "  "
   ]
  },
  {
   "cell_type": "markdown",
   "metadata": {},
   "source": [
    "## Lists:"
   ]
  },
  {
   "cell_type": "markdown",
   "metadata": {},
   "source": [
    "Transitioning into lists from the basics of R, we will now learn about lists.\n",
    "\n",
    "For a better understanding, here's an analogy. A list is like a \"file folder\" on your desktop. It can hold all different files, documents, pictures, and other file folders!\n",
    "\n",
    "Lists will allow you to group different objects, vectors, data frames, and other lists into a succinct \"bundle\". This can be especially helpful when you want to compile everything into a compact data structure.\n",
    "\n"
   ]
  },
  {
   "cell_type": "markdown",
   "metadata": {
    "collapsed": true
   },
   "source": [
    "### Quick Review of Vectors:\n",
    "\n",
    "Each vector will be composed of either characters, numerics, integers, boolean, or complex objects. They will follow the syntax below...\n",
    "\n",
    "- <code> vector_variable <- c(\"objects\", \"separated\", \"by\", \"commas\") </code>\n",
    "\n",
    "==========================================================\n",
    "\n",
    "- character ... <code> dms <- c(\"s\", \"e\", \"n\", \"d\", \"n\", \"u\") </code>\n",
    "- numeric ..... <code> int <- c(1, 2, 3, 5, 8) </code>\n",
    "- integer ..... <code> num <- c(1.1, 2.2, 3.3, 5.5) </code>\n",
    "- boolean ..... <code> boo <- c(TRUE, FALSE, T, F) </code>\n",
    "- complex ..... <code> cpx <- c(3+i, -1+3i) </code>\n",
    "\n",
    "Notice how dms has 6 elements, int has 5 elements, num has 4 elements, boo has 4 elements, and cpx has 2 elements. The varying lengths of objects is a defining characteristic of a list. \n",
    "\n"
   ]
  },
  {
   "cell_type": "markdown",
   "metadata": {},
   "source": [
    "### Lists: \"Bundling\" Vectors\n",
    "\n",
    "When you hear the word list, one may think of a group of individual components in a vector-like form, like a grocery list! In the most rudimentary sense, a \"list\" in the context of the R programming language is actually a \"list of lists\"."
   ]
  },
  {
   "cell_type": "markdown",
   "metadata": {},
   "source": [
    "**Each list will follow the format:**\n",
    "\n",
    "- <code> list_variable <- list(vector_1, vector_2, vector_3) </code>"
   ]
  },
  {
   "cell_type": "markdown",
   "metadata": {},
   "source": [
    "**For example,**\n",
    "\n",
    "(input)  ==> \n",
    "<code> bundle <- list(dms, int, num, boo, cpx) </code>\n",
    "\n",
    "\n",
    "(output) ==> \n",
    "<code> bundle\n",
    "        [[1]]\n",
    "        [1] \"s\" \"e\" \"n\" \"d\" \"n\" \"u\"\n",
    "        [[2]]\n",
    "        [1] 1 2 3 5 8\n",
    "        [[3]]\n",
    "        [1] 1.1 2.2 3.3 5.5\n",
    "        [[4]]\n",
    "        [1] TRUE FALSE T F\n",
    "        [[5]]\n",
    "        [1] 3+i -1+3i\n",
    "</code>"
   ]
  },
  {
   "cell_type": "markdown",
   "metadata": {
    "collapsed": true
   },
   "source": [
    "### Subscripting/Subsetting:\n",
    "\n",
    "In programming, you use a subscript to identify elements in an array. In this context, we will also learn how to use subscripts in a list. "
   ]
  },
  {
   "cell_type": "markdown",
   "metadata": {},
   "source": [
    "- By deduction, you can see that **dms** corresponds to [[1]], **int** to [[2]], and etc. \n",
    "\n",
    "- Also if you notice, there is a number in single square brackets and numbers in double square brackets. The single brackets indicate vectors, matrices, arrays, and data frames (all of which are either 1D vectors or 2D squares). The double brackets indicate subscripts on lists.\n",
    "\n",
    "\n",
    "For example, if you want to pull the **fourth vector** from \"bundle\", simply type...\n",
    "<code> \n",
    "    bundle[[4]]     \n",
    "    \n",
    "    [1] TRUE FALSE T F   \n",
    "</code>\n",
    "\n",
    "\n",
    "If you want to extract the **second element** from the **fourth vector** of the list, simply type...\n",
    "<code>  \n",
    "    bundle[[4]][2]\n",
    "    \n",
    "    [1] FALSE    \n",
    "</code>\n",
    "\n",
    "\n",
    "Luckily, if you be slippin', R has got yo back. Worry not if you forget the double brackets when you want to extract a vector from a list. *However*, know that you will encounter an error message if you try to extract an element from a vector from a list. See below...\n",
    "\n",
    "**You is GUCCI:**\n",
    "\n",
    "    INPUT : bundle[4]\n",
    "    \n",
    "    OUTPUT: [1] TRUE FALSE T F\n",
    "\n",
    "**You is NOT gucci:**\n",
    "\n",
    "    INPUT : bundle[4][2]\n",
    "    \n",
    "    OUTPUT: NULL\n",
    "    \n"
   ]
  },
  {
   "cell_type": "markdown",
   "metadata": {},
   "source": [
    "**Rule of Thumb**\n",
    "\n",
    "**Scenario:** You have a list and you don't know what could comprise that list. It could be filled with lists, vectors, etc.\n",
    "\n",
    "**Solution:** **Use double brackets!!!** when subsetting. Single brackets will output an error message if the element in the list you are trying to extract is anything but an individual object. Double brackets will allow you to extract that element regardless whether it is a vector or an object!"
   ]
  },
  {
   "cell_type": "code",
   "execution_count": null,
   "metadata": {
    "collapsed": true
   },
   "outputs": [],
   "source": [
    "# ___ Exercise ___\n",
    "\n",
    "dms <- c(\"s\", \"e\", \"n\", \"d\", \"n\", \"u\")\n",
    "int <- c(1, 2, 3, 5, 8)\n",
    "num <- c(1.1, 2.2, 3.3, 5.5)\n",
    "boo <- c(TRUE, FALSE, T, F)\n",
    "\n",
    "bundle <- list(dms, int, num, boo)\n",
    "\n",
    "# _____ Example _____\n",
    "# Consider you are only given, \n",
    "bundle <- list(dms, int, num, boo)\n",
    "# What is the safest way to extract the 5th element of the 1st element in the list, ' bundle '?\n",
    "\n",
    "# Answer:\n",
    "# Write out the code that you would use to answer the question above.\n"
   ]
  },
  {
   "cell_type": "code",
   "execution_count": null,
   "metadata": {
    "collapsed": true
   },
   "outputs": [],
   "source": [
    "# _____Example_____\n",
    "\n",
    "# Given:\n",
    "people <- list(name = \"Danny\", friend = \"Kenny\", common_interests = 3, interest_names = c(\"basketball\", \"video games\", \"21\"))\n",
    "\n",
    "# **Notice how 21 in the vector, interest_names, is displayed as a character! Not a numeric.\n",
    "\n",
    "# Remember that each element in the list has a number assigned to it and each vector element has a number assigned to it based \n",
    "## on the order the elements are written.\n",
    "# Usually, subscripts will be placed in brackets as an input, following the array's name. Outputted will be whatever is assigned\n",
    "##under that array's name.\n",
    "\n",
    "people[[1]] == name\n",
    "people[[2]] == friend\n",
    "people[[3]] == common_interests\n",
    "people[[4]] == interest_names\n",
    "\n",
    "people[[4]][1] == \"basketball\"\n",
    "people[[4]][2] == \"video games\"\n",
    "people[[4]][3] == \"21\""
   ]
  },
  {
   "cell_type": "markdown",
   "metadata": {},
   "source": [
    "**WAIT!!!** Okay, this is cool if you have a small list with just a few items. What if your list contains an enormous amount of other objects??\n",
    "\n",
    "Luckily, if you know the name of the vector/list/data frame in your list but not its position, R has a way to solve this issue.\n",
    "\n",
    "====================================================================\n",
    "\n",
    "**The format follows,** \n",
    "\n",
    "<code> list_name$component_name </code>\n",
    "\n"
   ]
  },
  {
   "cell_type": "code",
   "execution_count": null,
   "metadata": {
    "collapsed": true
   },
   "outputs": [],
   "source": [
    "# For example, \n",
    "\n",
    "# Let's say we forget how to count to 4 but we know that \"interest_names\" is SOMEWHERE in our list! Simply type...\n",
    "people$interest_names\n",
    "# ...and the vector assigned under interest_names should be outputted!\n",
    "\n",
    "# For more emphasis,\n",
    "people$name             == people[[1]] == \"Danny\"\n",
    "people$friend           == people[[2]] == \"Kenny\"\n",
    "people$common_interests == people[[3]] == 3\n",
    "people$interest_names   == people[[4]] == c(\"basketball\", \"video games\", \"21\")\n",
    "\n",
    "# additionally,\n",
    "people$interest_names[1] == \"basketball\"\n",
    "people$interest_names[2] == \"video games\"\n",
    "people$interest_names[3] == \"21\""
   ]
  },
  {
   "cell_type": "code",
   "execution_count": 3,
   "metadata": {
    "collapsed": false
   },
   "outputs": [
    {
     "data": {
      "text/html": [
       "<dl>\n",
       "\t<dt>$name</dt>\n",
       "\t\t<dd>'Danny'</dd>\n",
       "\t<dt>$friend</dt>\n",
       "\t\t<dd>'Kenny'</dd>\n",
       "\t<dt>$common_interests</dt>\n",
       "\t\t<dd>3</dd>\n",
       "\t<dt>$interest_names</dt>\n",
       "\t\t<dd><ol class=list-inline>\n",
       "\t<li>'basketball'</li>\n",
       "\t<li>'video games'</li>\n",
       "\t<li>'21'</li>\n",
       "</ol>\n",
       "</dd>\n",
       "</dl>\n"
      ],
      "text/latex": [
       "\\begin{description}\n",
       "\\item[\\$name] 'Danny'\n",
       "\\item[\\$friend] 'Kenny'\n",
       "\\item[\\$common\\_interests] 3\n",
       "\\item[\\$interest\\_names] \\begin{enumerate*}\n",
       "\\item 'basketball'\n",
       "\\item 'video games'\n",
       "\\item '21'\n",
       "\\end{enumerate*}\n",
       "\n",
       "\\end{description}\n"
      ],
      "text/markdown": [
       "$name\n",
       ":   'Danny'\n",
       "$friend\n",
       ":   'Kenny'\n",
       "$common_interests\n",
       ":   3\n",
       "$interest_names\n",
       ":   1. 'basketball'\n",
       "2. 'video games'\n",
       "3. '21'\n",
       "\n",
       "\n",
       "\n",
       "\n",
       "\n"
      ],
      "text/plain": [
       "$name\n",
       "[1] \"Danny\"\n",
       "\n",
       "$friend\n",
       "[1] \"Kenny\"\n",
       "\n",
       "$common_interests\n",
       "[1] 3\n",
       "\n",
       "$interest_names\n",
       "[1] \"basketball\"  \"video games\" \"21\"         \n"
      ]
     },
     "metadata": {},
     "output_type": "display_data"
    }
   ],
   "source": [
    "# In fact, if you print people, you will clearly see the list element's name, along with what the name is associated with.\n",
    "\n",
    "\n",
    "people <- list(name = \"Danny\", friend = \"Kenny\", common_interests = 3, interest_names = c(\"basketball\", \"video games\", \"21\"))\n",
    "print(people)"
   ]
  },
  {
   "cell_type": "markdown",
   "metadata": {},
   "source": [
    "### Modifying Lists\n",
    "\n",
    "When you want to add an object to a pre-existing list, follow the steps below...\n"
   ]
  },
  {
   "cell_type": "code",
   "execution_count": null,
   "metadata": {
    "collapsed": true
   },
   "outputs": [],
   "source": [
    "# _____Example______\n",
    "\n",
    "# 1) current list:\n",
    "list_name <- list(name = \"Danny\", \n",
    "                  friend = \"Kenny\", \n",
    "                  common_interests = 3, \n",
    "                  interest_names = c(\"basketball\", \"video games\", \"21\"))\n",
    "\n",
    "\n",
    "# 2) you want your new list to look like this\n",
    "list_name_want <- list(name = \"Danny\", \n",
    "                  friend = \"Kenny\", \n",
    "                  common_interests = 3, \n",
    "                  interest_names = c(\"basketball\", \"video games\", \"21\", \"coding R\"))\n",
    "\n",
    "\n",
    "# 3) What do you do?? Follow the structure below!\n",
    "modified_list <- c(original_list, vector_you_want_to_add_object = element_want_added)\n",
    "\n",
    "\n",
    "# 4) which is equal to...\n",
    "    # list_name     == original_list\n",
    "    # new_list      == modified_list\n",
    "    # interest_names== vector_you_want_to_add_object\n",
    "    # \"coding R\"    == element_want_added\n",
    "new_list <- c(list_name,  interest_names = \"coding R\")\n",
    "\n",
    "\n",
    "# 5) which should output...\n",
    "new_list <- list(name = \"Danny\", \n",
    "                 friend = \"Kenny\", \n",
    "                 common_interests = 3, \n",
    "                 interest_names = c(\"basketball\", \"video games\", \"21\", \"coding R\"))\n",
    "\n"
   ]
  },
  {
   "cell_type": "code",
   "execution_count": 6,
   "metadata": {
    "collapsed": false
   },
   "outputs": [
    {
     "name": "stdout",
     "output_type": "stream",
     "text": [
      "$name\n",
      "[1] \"Danny\"\n",
      "\n",
      "$friend\n",
      "[1] \"Kenny\"\n",
      "\n",
      "$common_interests\n",
      "[1] 3\n",
      "\n",
      "$interest_names\n",
      "[1] \"basketball\"  \"video games\" \"21\"          \"coding R\"   \n",
      "\n",
      "[1] \"DELETE\"\n",
      "$name\n",
      "[1] \"Danny\"\n",
      "\n",
      "$friend\n",
      "[1] \"Kenny\"\n",
      "\n",
      "$common_interests\n",
      "[1] 3\n",
      "\n"
     ]
    }
   ],
   "source": [
    "list_name <- list(name = \"Danny\", \n",
    "                  friend = \"Kenny\", \n",
    "                  common_interests = 3, \n",
    "                  interest_names = c(\"basketball\", \"video games\", \"21\"))\n",
    "\n",
    "# You can also replace step 3 above with:\n",
    "\n",
    "list_name$interest_names[4] <- \"coding R\"\n",
    "\n",
    "print(list_name)\n",
    "\n",
    "# With a similar notation, you can also delete elements in a list:\n",
    "# To delete interest_names, type:\n",
    "print(\"DELETE\")\n",
    "\n",
    "list_name$interest_names <- NULL\n",
    "\n",
    "print(list_name)"
   ]
  },
  {
   "cell_type": "markdown",
   "metadata": {},
   "source": [
    "## Useful Functions\n",
    "\n",
    "<code> names() </code>\n",
    "- Gives you the names of the header.\n",
    "\n",
    "<code> str() </code>\n",
    "- Gives you the structure of the list. "
   ]
  },
  {
   "cell_type": "code",
   "execution_count": 4,
   "metadata": {
    "collapsed": false
   },
   "outputs": [
    {
     "data": {
      "text/html": [
       "<ol class=list-inline>\n",
       "\t<li>'name'</li>\n",
       "\t<li>'friend'</li>\n",
       "\t<li>'common_interests'</li>\n",
       "\t<li>'interest_names'</li>\n",
       "</ol>\n"
      ],
      "text/latex": [
       "\\begin{enumerate*}\n",
       "\\item 'name'\n",
       "\\item 'friend'\n",
       "\\item 'common\\_interests'\n",
       "\\item 'interest\\_names'\n",
       "\\end{enumerate*}\n"
      ],
      "text/markdown": [
       "1. 'name'\n",
       "2. 'friend'\n",
       "3. 'common_interests'\n",
       "4. 'interest_names'\n",
       "\n",
       "\n"
      ],
      "text/plain": [
       "[1] \"name\"             \"friend\"           \"common_interests\" \"interest_names\"  "
      ]
     },
     "metadata": {},
     "output_type": "display_data"
    },
    {
     "name": "stdout",
     "output_type": "stream",
     "text": [
      "List of 4\n",
      " $ name            : chr \"Danny\"\n",
      " $ friend          : chr \"Kenny\"\n",
      " $ common_interests: num 3\n",
      " $ interest_names  : chr [1:4] \"basketball\" \"video games\" \"21\" \"coding R\"\n"
     ]
    }
   ],
   "source": [
    "new_list <- list(name = \"Danny\", \n",
    "                 friend = \"Kenny\", \n",
    "                 common_interests = 3, \n",
    "                 interest_names = c(\"basketball\", \"video games\", \"21\", \"coding R\"))\n",
    "\n",
    "names(new_list)\n",
    "str(new_list)"
   ]
  },
  {
   "cell_type": "markdown",
   "metadata": {},
   "source": [
    "## Exercises"
   ]
  },
  {
   "cell_type": "code",
   "execution_count": null,
   "metadata": {
    "collapsed": true
   },
   "outputs": [],
   "source": [
    "dms <- c(\"s\", \"e\", \"n\", \"d\", \"n\", \"u\")\n",
    "int <- c(1, 2, 3, 5, 8)\n",
    "num <- c(1.1, 2.2, 3.3, 5.5)\n",
    "boo <- c(TRUE, FALSE, T, F)\n",
    "\n",
    "bundle <- list(dms, int, num, boo)\n",
    "\n",
    "# Part 1: Subset the number '5'.\n",
    "\n",
    "\n",
    "# Part 2: Access the second element in 'bundle' using '$'.\n",
    "\n",
    "\n",
    "# Part 3: Add three or four more characters to 'dms'.\n",
    "\n",
    "\n",
    "# Part 4: What is the structure of 'bundle'? Character Names of 'bundle'?\n",
    "\n",
    "\n",
    "# Part 5: Make your own lists! Be creative!!!\n",
    "\n"
   ]
  },
  {
   "cell_type": "markdown",
   "metadata": {},
   "source": [
    "## Congratulations!\n",
    "You're done with tonight's exercises! Check back to [the syllabus](https://github.com/JasonFreeberg/R_Tutorials/blob/master/README.md) for this week's homework and a quick look at next week's topics. \n",
    "\n",
    "**Suggested Homework:**\n",
    "    - DataCamp: **Introduction** to R\n",
    "        - Chapters 4 and 5: Factors and Dataframes\n",
    "    - DataCamp: **Intermediate** R\n",
    "        - Chapters 1 to 3: Contiditionals and Control Flow, Loops, and Functions"
   ]
  }
 ],
 "metadata": {
  "anaconda-cloud": {},
  "kernelspec": {
   "display_name": "R",
   "language": "R",
   "name": "ir"
  },
  "language_info": {
   "codemirror_mode": "r",
   "file_extension": ".r",
   "mimetype": "text/x-r-source",
   "name": "R",
   "pygments_lexer": "r",
   "version": "3.2.3"
  }
 },
 "nbformat": 4,
 "nbformat_minor": 0
}
